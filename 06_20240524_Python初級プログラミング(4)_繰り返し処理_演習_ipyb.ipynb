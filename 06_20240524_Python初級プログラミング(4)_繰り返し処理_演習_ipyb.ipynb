{
  "nbformat": 4,
  "nbformat_minor": 0,
  "metadata": {
    "colab": {
      "provenance": [],
      "toc_visible": true,
      "include_colab_link": true
    },
    "kernelspec": {
      "name": "python3",
      "display_name": "Python 3"
    }
  },
  "cells": [
    {
      "cell_type": "markdown",
      "metadata": {
        "id": "view-in-github",
        "colab_type": "text"
      },
      "source": [
        "<a href=\"https://colab.research.google.com/github/kodairasan/Percolation/blob/main/06_20240524_Python%E5%88%9D%E7%B4%9A%E3%83%97%E3%83%AD%E3%82%B0%E3%83%A9%E3%83%9F%E3%83%B3%E3%82%B0(4)_%E7%B9%B0%E3%82%8A%E8%BF%94%E3%81%97%E5%87%A6%E7%90%86_%E6%BC%94%E7%BF%92_ipyb.ipynb\" target=\"_parent\"><img src=\"https://colab.research.google.com/assets/colab-badge.svg\" alt=\"Open In Colab\"/></a>"
      ]
    },
    {
      "cell_type": "markdown",
      "metadata": {
        "id": "eg213vgj3tu8"
      },
      "source": [
        "## Question 1.\n",
        "0から9999までの整数値 n を入力して, n円を5000円札, 1000円札, 500円玉, 100円玉, 50円玉, 10円玉, 5円玉, 1円玉の組み合わせで支払うときに, どの紙幣(あるいは硬貨)がそれぞれ何枚必要であるかを計算して結果を表示するプログラムを作成せよ."
      ]
    },
    {
      "cell_type": "markdown",
      "metadata": {
        "id": "kEkeDLT44-F1"
      },
      "source": [
        "**ヒント**  この例題は「Python初級プログラミング(1) 変数と代入文」でも取り扱ったものですが, そこでは繰り返し処理構文を使用せずにプログラムを記述していました. そのため, 同じような内容の処理を何度も記述するという無駄が多かったのですが, ここではリストと for を使用してよりスッキリとした形で書いています.\n",
        "\n",
        "リスト note はそれぞれの紙幣, 硬貨の額面を(高額なものから順番に)保持するリスト変数で, zankin は現時点で支払いが残っている残金を表します.\n",
        "\n",
        "for 構文では, note のそれぞれの成分 x に対して,\n",
        "\n",
        "\n",
        "1.   残金 zankin を支払うために必要な x 円札 (または硬貨) の枚数 num を計算して,\n",
        "2.   「x円札 (または硬貨)は num 枚必要です」と表示し,\n",
        "3.   x 円札を num 枚支払った後に残る金額を改めて zankin とする\n",
        "\n",
        "という処理を繰り返してください.\n",
        "\n"
      ]
    },
    {
      "cell_type": "code",
      "metadata": {
        "id": "uAUQi2iO4HjU"
      },
      "source": [
        "note=[5000,1000,500,100,50,10,5,1]\n",
        "print(\"input n: \")\n",
        "zankin=int(input())\n",
        "\n",
        "#以下に解答を記入"
      ],
      "execution_count": null,
      "outputs": []
    },
    {
      "cell_type": "markdown",
      "metadata": {
        "id": "o0sdBVkj6Io9"
      },
      "source": [
        "**Memo 2.** まったくの余談ですが, 現在の日本における通貨体系では, 高額な紙幣または硬貨を優先的にたくさん使っていくという方針で, 支払いに必要な紙幣・硬貨の総枚数を最小にできます. しかし, 通貨体系の設計によっては, この原則が崩れることもあります.「高額な紙幣を優先的に使えばよい」という原則が崩れた場合に,「n 円の支払いのために紙幣・硬貨の枚数を最小化するには?」という問題は効率的な解決が難しい問題になります."
      ]
    },
    {
      "cell_type": "markdown",
      "metadata": {
        "id": "KRuugTbr-_Gy"
      },
      "source": [
        "##Question 2.\n",
        "与えられた5個の整数のうちで最大の数と最小の数をそれぞれ表示するプログラムに関して、以下の出だしの続きを作成せよ."
      ]
    },
    {
      "cell_type": "markdown",
      "metadata": {
        "id": "O1nbxXNL_uFZ"
      },
      "source": [
        "**ヒント.** 変数 maximum と minimum はそれぞれ, 現時点での暫定最大値と暫定最小値を保持するための変数です. 下記の例では初期値はどちらも 0 になっていますが, この 0 という値に特別な意味はありません.\n",
        "\n",
        "続きはfor ループで以下のことをやります.\n",
        "\n",
        "* キーボードから値 a を一つ受け取る.\n",
        "* a が現在の暫定最大値 maximum よりも大きい場合は, 暫定最大値 maximum を a に置き換える\n",
        "* 同様に a が現在の暫定最小値 minimum よりも小さい場合は, minimum を a に置き換える\n",
        "\n",
        "ただし, 最初の入力値 a については, 無条件でそれを暫定最大値および暫定最小値に設定します."
      ]
    },
    {
      "cell_type": "code",
      "metadata": {
        "id": "7FtfWRXo_NkT"
      },
      "source": [
        "print(\"input five numbers: \")\n",
        "maximum=0\n",
        "minimum=0\n",
        "\n",
        "for x in range(5):\n",
        "  a=int(input())\n",
        "  #以下に続きを入力\n",
        "\n",
        "print(\"maximum=\",maximum)\n",
        "print(\"minimum=\",minimum)"
      ],
      "execution_count": null,
      "outputs": []
    },
    {
      "cell_type": "markdown",
      "metadata": {
        "id": "iFK3T6lp61Hl"
      },
      "source": [
        "##Question 3.\n",
        "「Python初級プログラミング(1) 変数と代入文」において, 入力された2桁の整数 n の1の位と10の位を入れ替えた整数を求めよ, という例題を考えた. それを発展させて, 桁数が不明な自然数 n が入力されたときに, それを逆から読んだ自然数を表示するプログラムを作成せよ. 例えば, n=28415 ならば, 出力は 51482 である.  "
      ]
    },
    {
      "cell_type": "markdown",
      "metadata": {
        "id": "rcd9HOYl74uh"
      },
      "source": [
        "**ヒント**  入力される n が2桁であると予め分かっている場合と比べると, n の桁数が前もって分かっていない場合には話が難しくなるので, プログラムを書く前にきちんとアルゴリズムを考えておいた方がいいでしょう.\n",
        "\n",
        "貯金通帳 ans に最終的な答えが格納されるようにします. 初期値は ans=0 です.\n",
        "\n",
        "while ループで以下のことをやります.\n",
        "\n",
        "\n",
        "*   現在の n の値における最下位の値 (1の位の値) を求めて, それを lsb に格納する. なお, n の 1 の位は 10 で割った時の余りとして求められます.\n",
        "*   現時点での「答え」は ans に格納されていますが, その値の直後に lsb をくっつけます. この操作は数式で簡単に実現できます. つまり, ans*10 によって ans の値が一つ「左」にずれて最後尾に 0 がつくので, それに lsb を加えれば, 結果として ans の右側に lsb がくっついた値が実現されます.\n",
        "*   最後に, 取り出した lsb はもう不要なので n から「削除」します. まず n から lsb を引くことで n の 1 の位が 0 にリセットされ, それを 10 で割れば末尾の 0 が削除されます.\n",
        "\n",
        "この処理を, n の桁が残っている間, つまり n>0 である間ひたすら繰り返すのが, この while ループです.\n",
        "\n",
        "例えば, n=48253 のときには, whileループでは次のように処理が進行します. ループ開始前は ans=0 です.\n",
        "\n",
        "1.   lsb = n%10 = 3 となる. (n の末尾が取得される)\n",
        "2.   ans が ans*10+3 = 3 となる.\n",
        "3.   n が (n-3)/10 = 48250/10=4825 になる. (末尾の 3 が取れる)\n",
        "4.   まだ n>0 なので, 次のループに入る. まず, lsb=n%3=5 となる. (現在の n=4825 の末尾)\n",
        "5.   ans が ans*10+5=30+3=35 に更新される. (5が後ろに付いた)\n",
        "6.   n が (n-5)/10=4820/10=482 になる. (末尾の 5 が取れる)\n",
        "7.   まだ n>0 なので, 次のループに入る. (以下続く)\n",
        "\n",
        "以下, この処理が n>0 という条件が成り立っている間繰り返されます.\n",
        "\n"
      ]
    },
    {
      "cell_type": "code",
      "source": [
        "#Question 3のプログラム\n",
        "print(\"input n: \")\n",
        "n=int(input())\n",
        "\n",
        "#以下に続きを入力\n"
      ],
      "metadata": {
        "id": "BCRdzebzDMry"
      },
      "execution_count": null,
      "outputs": []
    },
    {
      "cell_type": "markdown",
      "metadata": {
        "id": "ul7Pvnh9CQ0H"
      },
      "source": [
        "##Question 4.\n",
        "キーボードから自然数を入力していき, 最後に負の値を入力した時点で入力が打ち切られ,「最後の負の値」を除く全ての入力値の総和を求めるプログラムとして、以下のようなものを作成した.\n",
        "\n",
        "(1) このプログラムの問題点を２つ指摘せよ．\n",
        "(2) (1)で挙げた問題点を解決するコードを書け．"
      ]
    },
    {
      "cell_type": "code",
      "metadata": {
        "id": "uQ8Hl2GSCi9o"
      },
      "source": [
        "print(\"input numbers: \")\n",
        "sum=0\n",
        "\n",
        "while x>=0:\n",
        "  x=int(input())\n",
        "  sum=sum+x\n",
        "\n",
        "print(\"Souwa =\",sum)"
      ],
      "execution_count": null,
      "outputs": []
    },
    {
      "cell_type": "markdown",
      "metadata": {
        "id": "N7CHt4JCCNQQ"
      },
      "source": [
        "##Question 5.\n",
        "キーボードから数をいくつか入力していき, 最初に負の数が入力された時点で入力を打ち切るものとする.\n",
        "最後の負の数を除く全ての入力値を小さい順に並べ替えて結果を出力するプログラムを作成せよ."
      ]
    },
    {
      "cell_type": "markdown",
      "metadata": {
        "id": "lEATN-ZfagKj"
      },
      "source": [
        "**ヒント** list は最終結果を保持するリストであり, プログラムを実行中は常に list[0] ≦ list[1] ≦ list[2] ≦ ... というように成分が昇順に並ぶようにメンテナンスされるようにします.\n",
        "\n",
        "その後 while ループを形成がメインの部分です.\n",
        "\n",
        "* 入力 a を受け取りますが, これが負の値であればその時点で即座に入力を中止します.\n",
        "* 最初の a を入力した時点ではまだ list は空っぽですが, この時には a を list に追加して, list=[a] という状態にします. (ここを実行するのは, 最初の a を入力した直後だけです.)\n",
        "* list に既に何らかの成分が入っているときには, 次のelif に移ります. list[-1] は list の最後の成分, つまりこれまでに入力された数の最大値が入っています. 入力 a がそれ以上の値であるときには, list の末尾に a を追記すればよいだけです.\n",
        "たとえば, list=[3,5,6] の状態で a=7 が入力されたら, list=[3,5,6,7] にする, ということです.\n",
        "* そうでないときには, else に移ります. その中でfor ループを使い, ここでやっていることは, list[x] > a となる最小の番号 x を見つけることです. この x が見つかったら, list[x] の直前に a を挿入して終了します.\n",
        "たとえば, list=[3,5,8,9] のときに a=6 が入力されたときには, x=2 のときに14行目の if に該当して, list[2:2]=[6] が実行されることで, list[2]=8 の寸前に 6 が挿入されて list=[3,5,6,8,9] になる, という具合です.\n"
      ]
    },
    {
      "cell_type": "code",
      "metadata": {
        "id": "msCuq4QFCZhd"
      },
      "source": [
        "print(\"input numbers: \")\n",
        "list=[]\n",
        "\n",
        "while True:\n",
        "  a=int(input())\n",
        "#以下に解答を記載\n",
        "\n",
        "print(list)"
      ],
      "execution_count": null,
      "outputs": []
    },
    {
      "cell_type": "markdown",
      "metadata": {
        "id": "qhBfvKSM_0e8"
      },
      "source": [
        "**Memo** 余談ですが, 実はリストに対して sort 命令を使うと, 成分の並べ替えをすることができます.解答例は下を見てみてください．"
      ]
    },
    {
      "cell_type": "markdown",
      "metadata": {
        "id": "DUKWphqrUtSi"
      },
      "source": [
        "##Question 6.\n",
        " 英文とアルファベットを1文字入力して, 英文中にそのアルファベットが何回現れるかを数えるプログラムを作成せよ."
      ]
    },
    {
      "cell_type": "markdown",
      "metadata": {
        "id": "_b0stFSPVQKe"
      },
      "source": [
        "**ヒント**  for ループで, sentence の中に現れる letter の個数を数えます.\n",
        "\n",
        "6行目で定義される変数 count が, letter が現れた回数を数えるためのカウンタであり, その初期値は 0 です.\n",
        "\n",
        "7行目の for では, ループ変数 w は sentence の中を巡ることになっていますが, sentence は文字列型データなので, これは w が sentence の各々の文字を巡るという指定になります.\n",
        "\n",
        "ループ内では, w が4行目で入力された letter と同じであるかどうかを判断して, もしそうであれば count を1つ増やすという処理をしています.\n",
        "これで, sentence の中に現れる letter の個数を数え上げることができます.\n",
        "\n"
      ]
    },
    {
      "cell_type": "code",
      "metadata": {
        "id": "q49ko-8UU16r"
      },
      "source": [
        "print(\"Input a sentence: \")\n",
        "sentence=input()\n",
        "print(\"Input a letter: \")\n",
        "letter=input()\n",
        "\n",
        "count=0\n",
        "for w in sentence:\n",
        "\n",
        "#以下に解答を記入\n",
        "\n",
        "print(\"There are\",count,\"occurences of \",letter)"
      ],
      "execution_count": null,
      "outputs": []
    },
    {
      "cell_type": "markdown",
      "source": [
        "# Questionの解答例\n",
        "\n"
      ],
      "metadata": {
        "id": "b3hhFWM8BWgN"
      }
    },
    {
      "cell_type": "code",
      "metadata": {
        "id": "c6bP7gc59Bcq"
      },
      "source": [
        "#Question 1.の解答例\n",
        "note=[5000,1000,500,100,50,10,5,1]\n",
        "print(\"input n: \")\n",
        "zankin=int(input())\n",
        "\n",
        "for x in note:\n",
        "  num=int(zankin/x)\n",
        "  print(x,\"yen coins = \",num)\n",
        "  zankin=zankin-x*num"
      ],
      "execution_count": null,
      "outputs": []
    },
    {
      "cell_type": "code",
      "metadata": {
        "id": "6cjkV9cUwsew"
      },
      "source": [
        "#Question 2 の解答例\n",
        "\n",
        "print(\"input five numbers: \")\n",
        "maximum=0\n",
        "minimum=0\n",
        "\n",
        "for x in range(5):\n",
        "  a=int(input())\n",
        "  if x<1:\n",
        "    maximum=a\n",
        "    minimum=a\n",
        "  elif maximum<a:\n",
        "    maximum=a\n",
        "  elif minimum>a:\n",
        "    minimum=a\n",
        "\n",
        "print(\"maximum=\",maximum)\n",
        "print(\"minimum=\",minimum)"
      ],
      "execution_count": null,
      "outputs": []
    },
    {
      "cell_type": "code",
      "metadata": {
        "id": "cDCoIeOG7eCa"
      },
      "source": [
        "#Questin 3 の解答例\n",
        "print(\"input n: \")\n",
        "n=int(input())\n",
        "\n",
        "ans=0\n",
        "while n>0:\n",
        "  lsb=n%10\n",
        "  ans=ans*10+lsb\n",
        "  n=int((n-lsb)/10)\n",
        "\n",
        "print(\"Reverted =\",ans)"
      ],
      "execution_count": null,
      "outputs": []
    },
    {
      "cell_type": "markdown",
      "metadata": {
        "id": "XSXUqqyYAPGV"
      },
      "source": [
        "**Question 3 のコメント** このプログラムで述べた考え方を利用すると, 入力された自然数 n が左から読んでも右から読んでも同じように読める「回文数 (palindromic number)」になっているかどうかを判定することもできます."
      ]
    },
    {
      "cell_type": "code",
      "metadata": {
        "id": "TAMvwmTRAdBP"
      },
      "source": [
        "print(\"input n: \")\n",
        "n=int(input())\n",
        "original=n\n",
        "\n",
        "ans=0\n",
        "while n>0:\n",
        "  lsb=n%10\n",
        "  ans=ans*10+lsb\n",
        "  n=int((n-lsb)/10)\n",
        "\n",
        "if ans==original:\n",
        "  print(original,\"is a palindromic number.\")\n",
        "else:\n",
        "  print(original, \"is not a palindromic number.\")"
      ],
      "execution_count": null,
      "outputs": []
    },
    {
      "cell_type": "markdown",
      "metadata": {
        "id": "Tm-Yac0XA4gn"
      },
      "source": [
        "while ループのところで, 最初に入力された n の桁を逆から読んだ自然数 ans を計算しているところは前と同じです. その計算結果 ans と最初の n が一致していれば n は回文数, そうでなければ n は回文数ではない, ということになります.\n",
        "\n",
        "ただし, while ループを実行すると n の値はどんどん「桁」が削れて変わっていき, 最後は 0 になってしまいます.\n",
        "したがって, 最後に ans が n と一致するかどうかを判断するためには, 最初に入力された値 n を覚えておく必要があります.\n",
        "そこで, n が入力された直後に, その値を別の変数 original に保存しておきます. original は while ループを実行しても変わりません. 最後の if 文では, ans を n とではなく original と比較します."
      ]
    },
    {
      "cell_type": "markdown",
      "metadata": {
        "id": "jC7Dm5VQDABz"
      },
      "source": [
        "**Question 4**  上記のプログラム例は文法的には問題なくても, 意図通りには動作しません.「文法エラーはないが論理的にはエラーがある」というプログラムです.\n",
        "問題点は2つあります.\n",
        "\n",
        "* (**問題点A**) 最初の問題点は, while ループに入る前の変数 x の値がどうなっているか, ということです.\n",
        "while ループの前には変数 x の値を明示的に指定している命令はありません. したがって, while ループに入る時点での x の値は不明確で, x がどんな値を持っているかはわかりません.\n",
        "もし運良く x が 0 以上の値を持っていれば, while ループは少なくとも1回は実行されることになりますが, もし x の値が負であるときには, while ループは一度も実行されず, いきなり最後に「Souwa = 0」と表示されて終わってしまうことになります.\n",
        "\n",
        "* (**問題点B**) もう一つの問題点は,「最後に入力される負の値」の扱いにあります.\n",
        "例えば, 3,4,5,-1 と入力したとすると, 確かに最後の -1 を入力した時点で x の値は -1 になり, while ループは終了します.\n",
        "しかし, 6行目はこの最後の x=-1 に対しても実行されてしまうので, sum は 3+4+5=12 ではなく, 3+4+5-1=11 になってしまいます.\n",
        "\n",
        "これらの問題点を解決する方法として, 少なくとも3通りを挙げます."
      ]
    },
    {
      "cell_type": "code",
      "metadata": {
        "id": "Y-TgM8bPEjix"
      },
      "source": [
        "#Question 4 のコードの改善策(1)\n",
        "#問題点Aを解決するために, 3行目に明示的に x=0 を記述しています. 問題点Bは, while ループにおいて x が入力されたときに, if を利用して x>0 の時にのみ sum=sum+x を実行することで, 最後の負の値は無視されるようにすることで解決しています.\n",
        "\n",
        "print(\"input numbers: \")\n",
        "sum=0\n",
        "x=0\n",
        "\n",
        "while x>=0:\n",
        "  x=int(input())\n",
        "  if x>0:\n",
        "    sum=sum+x\n",
        "\n",
        "print(\"Souwa = \",sum)"
      ],
      "execution_count": null,
      "outputs": []
    },
    {
      "cell_type": "code",
      "metadata": {
        "id": "2vPh4YBbFV9c"
      },
      "source": [
        "#Question 4 のコードの改善策(2)\n",
        "#while ループを抜けた後で, sum=sum-x を1回実行することで問題点Bを回避しています(9行目). この一文が, 最後のループ時に実行される sum=sum+x の効果を打ち消すわけです. x を入力するたびに x>0 であるかどうかを判断する必要はないので, 最初の解決策よりは手軽です.\n",
        "print(\"input numbers: \")\n",
        "sum=0\n",
        "x=0\n",
        "\n",
        "while x>=0:\n",
        "  x=int(input())\n",
        "  sum=sum+x\n",
        "\n",
        "sum=sum-x\n",
        "print(\"Souwa = \",sum)"
      ],
      "execution_count": null,
      "outputs": []
    },
    {
      "cell_type": "code",
      "metadata": {
        "id": "16k3mIs9GyWz"
      },
      "source": [
        "#Question 4 のコードの改善策(3)\n",
        "# 問題点Bを解決するために, while ループにおける sum=sum+x と x=int(input()) の順番を逆転させています. つまり「前に入力された x を sum に加えてから, 次の x を入力してもらう」という順番にするわけです.\n",
        "#少しトリッキー\n",
        "print(\"input numbers: \")\n",
        "sum=0\n",
        "x=0\n",
        "\n",
        "while x>=0:\n",
        "  sum=sum+x\n",
        "  x=int(input())\n",
        "\n",
        "print(\"Souwa = \",sum)"
      ],
      "execution_count": null,
      "outputs": []
    },
    {
      "cell_type": "markdown",
      "source": [
        "**Question 5の解答例**"
      ],
      "metadata": {
        "id": "ZfFSLxmOm7DL"
      }
    },
    {
      "cell_type": "code",
      "metadata": {
        "id": "4EJA29P-35tS"
      },
      "source": [
        "#Question 5.の解答例\n",
        "print(\"input numbers: \")\n",
        "list=[]\n",
        "\n",
        "while True:\n",
        "  a=int(input())\n",
        "  if a<0:\n",
        "    break\n",
        "  if list==[]:\n",
        "    list=[a]\n",
        "  elif list[-1]<=a: #リストの最後の要素がaより小さい（aがこれまで入力された中で最大）の場合\n",
        "    list=list+[a]\n",
        "    print(list)\n",
        "  else: #リストの最後の要素がaより大きい（aがこれまで入力された中で最大ではない）場合\n",
        "    for x in range(len(list)):\n",
        "      if list[x]>a:\n",
        "        list = list+[list[len(list)-1]]\n",
        "        for i in range(len(list)-2,x-1,-1):\n",
        "          list[i] = list[i-1]\n",
        "        list[x] = a2\n",
        "\n",
        "        print(list)\n",
        "        break\n",
        "\n",
        "print(list)"
      ],
      "execution_count": null,
      "outputs": []
    },
    {
      "cell_type": "code",
      "metadata": {
        "id": "QVC_keqep4gf"
      },
      "source": [
        "#Question 5.の解答例\n",
        "print(\"input numbers: \")\n",
        "list=[]\n",
        "\n",
        "while True:\n",
        "  a=int(input())\n",
        "  if a<0:\n",
        "    break\n",
        "  if list==[]:\n",
        "    list=[a]\n",
        "  elif list[-1]<=a: #リストの最後の要素がaより小さい（aがこれまで入力された中で最大）の場合\n",
        "    list=list+[a]\n",
        "    print(list)\n",
        "  else: #リストの最後の要素がaより大きい（aがこれまで入力された中で最大ではない）場合\n",
        "    for x in range(len(list)):\n",
        "      if list[x]>a:\n",
        "        list[x:x]=[a] #listのx番目の要素としてaを挿入する\n",
        "        print(list)\n",
        "        break\n",
        "\n",
        "print(list)"
      ],
      "execution_count": null,
      "outputs": []
    },
    {
      "cell_type": "markdown",
      "source": [
        "**Question 5のsort命令を使った解答例**"
      ],
      "metadata": {
        "id": "3puSNlfw6YEI"
      }
    },
    {
      "cell_type": "code",
      "metadata": {
        "id": "u3hoQcLb_-lE"
      },
      "source": [
        "#Question 5のsort命令を使った解答例\n",
        "print(\"input numbers: \")\n",
        "list=[]\n",
        "\n",
        "while True:\n",
        "  a=int(input())\n",
        "  if a<0:\n",
        "    break\n",
        "  list=list+[a]\n",
        "\n",
        "list.sort()\n",
        "print(list)"
      ],
      "execution_count": null,
      "outputs": []
    },
    {
      "cell_type": "markdown",
      "metadata": {
        "id": "v8j_eL49A23c"
      },
      "source": [
        "この例では, 4行目〜8行目の while ループで入力される数をリスト化して, while が終了した後の10行目の記述でそのリスト list の中身を一気に並べ替えています.\n",
        "先に述べた例では練習のために sort 命令を使用せずに記述しました.\n",
        "\n",
        "10行目の代わりに\n",
        "```\n",
        "list.sort(reverse=True)\n",
        "```\n",
        "と書けば, 降順に並べ替えられます.\n",
        "\n"
      ]
    },
    {
      "cell_type": "markdown",
      "metadata": {
        "id": "5yunoL0FCCub"
      },
      "source": [
        "sort命令は list を直接操作しますが, list 自体を改変せずに, 成分の順序を入れ替えて得られる新しいリストを作りたいという場合には, 10行目以降を次のように書き換えてみてください.\n",
        "\n",
        "```\n",
        "newlist = sorted(list)\n",
        "print(list)\n",
        "print(newlist)\n",
        "```\n",
        "\n",
        "list は改変されておらず, 成分の順番が入れ替わった新しいリスト newlist が作られているのがわかります.\n",
        "\n"
      ]
    },
    {
      "cell_type": "markdown",
      "source": [
        "**Question 6.の解答例**"
      ],
      "metadata": {
        "id": "e46e5gHipmIJ"
      }
    },
    {
      "cell_type": "code",
      "metadata": {
        "id": "qja-CF4d7HaV"
      },
      "source": [
        "#Question 6.の解答例\n",
        "print(\"Input a sentence: \")\n",
        "sentence=input()\n",
        "print(\"Input a letter: \")\n",
        "letter=input()\n",
        "\n",
        "count=0\n",
        "for w in sentence:\n",
        "  if w==letter:\n",
        "    count=count+1\n",
        "\n",
        "print(\"There are\",count,\"occurences of \",letter)"
      ],
      "execution_count": null,
      "outputs": []
    },
    {
      "cell_type": "markdown",
      "source": [
        "**余談:** 8〜9行目は次のように if を利用せずに略記することも可能です.\n",
        "\n",
        "```\n",
        "    count=count+(w==letter)\n",
        "```\n",
        "\n",
        "右辺では, count に w==letter という値が加わっています.\n",
        "この w==letter は「w と letter が等しい」という意味の条件式ですが, それが真であれば 1, 偽であれば 0 という値を持ちます.\n",
        "したがって, w と letter が等しければ count+1 に, そうでなければ count+0 になるわけで, 実質的に8〜9行目に書かれた if 文と同等の効果を生み出すわけです.\n"
      ],
      "metadata": {
        "id": "PtmJwnt-77ZC"
      }
    },
    {
      "cell_type": "markdown",
      "metadata": {
        "id": "dKxToinBWHTI"
      },
      "source": [
        "**コメント** 身も蓋もありませんが, 実はこの例題は繰り返し処理構文を利用せずに, 次のようなプログラムで解決することもできます."
      ]
    },
    {
      "cell_type": "code",
      "metadata": {
        "id": "cuaLnHueV6Rz"
      },
      "source": [
        "#Question 6.の別のプログラム例\n",
        "print(\"Input a sentence: \")\n",
        "sentence=input()\n",
        "print(\"Input a letter: \")\n",
        "letter=input()\n",
        "\n",
        "count=sentence.count(letter)\n",
        "print(\"There are\",count,\"occurences of \",letter)"
      ],
      "execution_count": null,
      "outputs": []
    },
    {
      "cell_type": "markdown",
      "metadata": {
        "id": "26qmhlueWSXA"
      },
      "source": [
        "6行目で使用している count 命令は, sentence の中に現れる letter の個数をカウントしています.\n",
        "\n",
        "ここでは繰り返し処理構文の練習のためという目的があったので, count 命令を使用しませんでしたが, 実際にはこのような便利な命令があります.実際のプログラミングの場面では，このような命令をうまく活用することが重要になります．"
      ]
    },
    {
      "cell_type": "code",
      "source": [],
      "metadata": {
        "id": "s2FJ7jeW779J"
      },
      "execution_count": null,
      "outputs": []
    }
  ]
}